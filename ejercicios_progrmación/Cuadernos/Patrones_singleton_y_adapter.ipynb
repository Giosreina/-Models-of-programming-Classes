{
 "cells": [
  {
   "cell_type": "markdown",
   "metadata": {},
   "source": [
    "31/03/2025\n",
    "# Patrones de diseño Singleton y Adapter\n",
    "## Singleton\n",
    "Garantiza la existencia de un solo objeto que sea reconocible, y garantiza un unico punto de acceso a el para cualquier otro codigo, ejemplo: \n",
    "\n",
    "$\\textbf{Crear una base datos unica para trabajarla en diferentes codigos}$\n",
    "\n",
    "El uso de la referencia static es para mandar el objeto a la pila."
   ]
  }
 ],
 "metadata": {
  "language_info": {
   "name": "python"
  }
 },
 "nbformat": 4,
 "nbformat_minor": 2
}
